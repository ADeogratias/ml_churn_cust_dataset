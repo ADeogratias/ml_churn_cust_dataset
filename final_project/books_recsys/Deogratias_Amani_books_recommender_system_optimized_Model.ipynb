{
  "nbformat": 4,
  "nbformat_minor": 0,
  "metadata": {
    "colab": {
      "name": "Deogratias_Amani_books_recommender_system.ipynb",
      "provenance": [],
      "toc_visible": true
    },
    "kernelspec": {
      "name": "python3",
      "display_name": "Python 3"
    },
    "accelerator": "GPU"
  },
  "cells": [
    {
      "cell_type": "code",
      "metadata": {
        "id": "IpLvDiN0gJQZ"
      },
      "source": [
        "import numpy as np\n",
        "import pandas as pd\n",
        "import matplotlib.pyplot as plt\n",
        "import os\n",
        "import warnings\n",
        "\n",
        "warnings.filterwarnings('ignore')\n",
        "%matplotlib inline\n",
        "\n",
        "import tensorflow.keras as tf"
      ],
      "execution_count": 1,
      "outputs": []
    },
    {
      "cell_type": "code",
      "metadata": {
        "id": "TEldeHYzqlEc"
      },
      "source": [
        "from google.colab import drive"
      ],
      "execution_count": 2,
      "outputs": []
    },
    {
      "cell_type": "code",
      "metadata": {
        "id": "q03zP1oVzGzn",
        "outputId": "8a1381db-77f5-4cc4-d055-6621ae6e8507",
        "colab": {
          "base_uri": "https://localhost:8080/"
        }
      },
      "source": [
        "drive.mount('/content/gdrive')"
      ],
      "execution_count": 3,
      "outputs": [
        {
          "output_type": "stream",
          "text": [
            "Mounted at /content/gdrive\n"
          ],
          "name": "stdout"
        }
      ]
    },
    {
      "cell_type": "code",
      "metadata": {
        "id": "T7B51byirf99",
        "outputId": "3190194b-aa07-4f4e-e886-7d607a261cf3",
        "colab": {
          "base_uri": "https://localhost:8080/"
        }
      },
      "source": [
        "! ls \"/content/gdrive/My Drive/rec_sys_goodbooks-10k\""
      ],
      "execution_count": 4,
      "outputs": [
        {
          "output_type": "stream",
          "text": [
            "books.csv  book_tags.csv  ratings.csv  tags.csv  to_read.csv\n"
          ],
          "name": "stdout"
        }
      ]
    },
    {
      "cell_type": "code",
      "metadata": {
        "id": "3XHmRsKTVmT4"
      },
      "source": [
        "ratings_df = pd.read_csv(\"/content/gdrive/My Drive/rec_sys_goodbooks-10k/ratings.csv\")\n",
        "books_df = pd.read_csv(\"/content/gdrive/My Drive/rec_sys_goodbooks-10k/books.csv\")"
      ],
      "execution_count": 5,
      "outputs": []
    },
    {
      "cell_type": "code",
      "metadata": {
        "colab": {
          "base_uri": "https://localhost:8080/",
          "height": 195
        },
        "id": "fNKJTbkZiwqH",
        "outputId": "93bcd27e-5fc4-4e7a-e85d-11e40aca0ba1"
      },
      "source": [
        "ratings_df.head()"
      ],
      "execution_count": 6,
      "outputs": [
        {
          "output_type": "execute_result",
          "data": {
            "text/html": [
              "<div>\n",
              "<style scoped>\n",
              "    .dataframe tbody tr th:only-of-type {\n",
              "        vertical-align: middle;\n",
              "    }\n",
              "\n",
              "    .dataframe tbody tr th {\n",
              "        vertical-align: top;\n",
              "    }\n",
              "\n",
              "    .dataframe thead th {\n",
              "        text-align: right;\n",
              "    }\n",
              "</style>\n",
              "<table border=\"1\" class=\"dataframe\">\n",
              "  <thead>\n",
              "    <tr style=\"text-align: right;\">\n",
              "      <th></th>\n",
              "      <th>user_id</th>\n",
              "      <th>book_id</th>\n",
              "      <th>rating</th>\n",
              "    </tr>\n",
              "  </thead>\n",
              "  <tbody>\n",
              "    <tr>\n",
              "      <th>0</th>\n",
              "      <td>1</td>\n",
              "      <td>258</td>\n",
              "      <td>5</td>\n",
              "    </tr>\n",
              "    <tr>\n",
              "      <th>1</th>\n",
              "      <td>2</td>\n",
              "      <td>4081</td>\n",
              "      <td>4</td>\n",
              "    </tr>\n",
              "    <tr>\n",
              "      <th>2</th>\n",
              "      <td>2</td>\n",
              "      <td>260</td>\n",
              "      <td>5</td>\n",
              "    </tr>\n",
              "    <tr>\n",
              "      <th>3</th>\n",
              "      <td>2</td>\n",
              "      <td>9296</td>\n",
              "      <td>5</td>\n",
              "    </tr>\n",
              "    <tr>\n",
              "      <th>4</th>\n",
              "      <td>2</td>\n",
              "      <td>2318</td>\n",
              "      <td>3</td>\n",
              "    </tr>\n",
              "  </tbody>\n",
              "</table>\n",
              "</div>"
            ],
            "text/plain": [
              "   user_id  book_id  rating\n",
              "0        1      258       5\n",
              "1        2     4081       4\n",
              "2        2      260       5\n",
              "3        2     9296       5\n",
              "4        2     2318       3"
            ]
          },
          "metadata": {
            "tags": []
          },
          "execution_count": 6
        }
      ]
    },
    {
      "cell_type": "code",
      "metadata": {
        "colab": {
          "base_uri": "https://localhost:8080/",
          "height": 417
        },
        "id": "3LQOdQtPi-Ay",
        "outputId": "81070fc1-2927-4672-b34c-6bcf6f2b8427"
      },
      "source": [
        "books_df.head()"
      ],
      "execution_count": 7,
      "outputs": [
        {
          "output_type": "execute_result",
          "data": {
            "text/html": [
              "<div>\n",
              "<style scoped>\n",
              "    .dataframe tbody tr th:only-of-type {\n",
              "        vertical-align: middle;\n",
              "    }\n",
              "\n",
              "    .dataframe tbody tr th {\n",
              "        vertical-align: top;\n",
              "    }\n",
              "\n",
              "    .dataframe thead th {\n",
              "        text-align: right;\n",
              "    }\n",
              "</style>\n",
              "<table border=\"1\" class=\"dataframe\">\n",
              "  <thead>\n",
              "    <tr style=\"text-align: right;\">\n",
              "      <th></th>\n",
              "      <th>book_id</th>\n",
              "      <th>goodreads_book_id</th>\n",
              "      <th>best_book_id</th>\n",
              "      <th>work_id</th>\n",
              "      <th>books_count</th>\n",
              "      <th>isbn</th>\n",
              "      <th>isbn13</th>\n",
              "      <th>authors</th>\n",
              "      <th>original_publication_year</th>\n",
              "      <th>original_title</th>\n",
              "      <th>title</th>\n",
              "      <th>language_code</th>\n",
              "      <th>average_rating</th>\n",
              "      <th>ratings_count</th>\n",
              "      <th>work_ratings_count</th>\n",
              "      <th>work_text_reviews_count</th>\n",
              "      <th>ratings_1</th>\n",
              "      <th>ratings_2</th>\n",
              "      <th>ratings_3</th>\n",
              "      <th>ratings_4</th>\n",
              "      <th>ratings_5</th>\n",
              "      <th>image_url</th>\n",
              "      <th>small_image_url</th>\n",
              "    </tr>\n",
              "  </thead>\n",
              "  <tbody>\n",
              "    <tr>\n",
              "      <th>0</th>\n",
              "      <td>1</td>\n",
              "      <td>2767052</td>\n",
              "      <td>2767052</td>\n",
              "      <td>2792775</td>\n",
              "      <td>272</td>\n",
              "      <td>439023483</td>\n",
              "      <td>9.780439e+12</td>\n",
              "      <td>Suzanne Collins</td>\n",
              "      <td>2008.0</td>\n",
              "      <td>The Hunger Games</td>\n",
              "      <td>The Hunger Games (The Hunger Games, #1)</td>\n",
              "      <td>eng</td>\n",
              "      <td>4.34</td>\n",
              "      <td>4780653</td>\n",
              "      <td>4942365</td>\n",
              "      <td>155254</td>\n",
              "      <td>66715</td>\n",
              "      <td>127936</td>\n",
              "      <td>560092</td>\n",
              "      <td>1481305</td>\n",
              "      <td>2706317</td>\n",
              "      <td>https://images.gr-assets.com/books/1447303603m...</td>\n",
              "      <td>https://images.gr-assets.com/books/1447303603s...</td>\n",
              "    </tr>\n",
              "    <tr>\n",
              "      <th>1</th>\n",
              "      <td>2</td>\n",
              "      <td>3</td>\n",
              "      <td>3</td>\n",
              "      <td>4640799</td>\n",
              "      <td>491</td>\n",
              "      <td>439554934</td>\n",
              "      <td>9.780440e+12</td>\n",
              "      <td>J.K. Rowling, Mary GrandPré</td>\n",
              "      <td>1997.0</td>\n",
              "      <td>Harry Potter and the Philosopher's Stone</td>\n",
              "      <td>Harry Potter and the Sorcerer's Stone (Harry P...</td>\n",
              "      <td>eng</td>\n",
              "      <td>4.44</td>\n",
              "      <td>4602479</td>\n",
              "      <td>4800065</td>\n",
              "      <td>75867</td>\n",
              "      <td>75504</td>\n",
              "      <td>101676</td>\n",
              "      <td>455024</td>\n",
              "      <td>1156318</td>\n",
              "      <td>3011543</td>\n",
              "      <td>https://images.gr-assets.com/books/1474154022m...</td>\n",
              "      <td>https://images.gr-assets.com/books/1474154022s...</td>\n",
              "    </tr>\n",
              "    <tr>\n",
              "      <th>2</th>\n",
              "      <td>3</td>\n",
              "      <td>41865</td>\n",
              "      <td>41865</td>\n",
              "      <td>3212258</td>\n",
              "      <td>226</td>\n",
              "      <td>316015849</td>\n",
              "      <td>9.780316e+12</td>\n",
              "      <td>Stephenie Meyer</td>\n",
              "      <td>2005.0</td>\n",
              "      <td>Twilight</td>\n",
              "      <td>Twilight (Twilight, #1)</td>\n",
              "      <td>en-US</td>\n",
              "      <td>3.57</td>\n",
              "      <td>3866839</td>\n",
              "      <td>3916824</td>\n",
              "      <td>95009</td>\n",
              "      <td>456191</td>\n",
              "      <td>436802</td>\n",
              "      <td>793319</td>\n",
              "      <td>875073</td>\n",
              "      <td>1355439</td>\n",
              "      <td>https://images.gr-assets.com/books/1361039443m...</td>\n",
              "      <td>https://images.gr-assets.com/books/1361039443s...</td>\n",
              "    </tr>\n",
              "    <tr>\n",
              "      <th>3</th>\n",
              "      <td>4</td>\n",
              "      <td>2657</td>\n",
              "      <td>2657</td>\n",
              "      <td>3275794</td>\n",
              "      <td>487</td>\n",
              "      <td>61120081</td>\n",
              "      <td>9.780061e+12</td>\n",
              "      <td>Harper Lee</td>\n",
              "      <td>1960.0</td>\n",
              "      <td>To Kill a Mockingbird</td>\n",
              "      <td>To Kill a Mockingbird</td>\n",
              "      <td>eng</td>\n",
              "      <td>4.25</td>\n",
              "      <td>3198671</td>\n",
              "      <td>3340896</td>\n",
              "      <td>72586</td>\n",
              "      <td>60427</td>\n",
              "      <td>117415</td>\n",
              "      <td>446835</td>\n",
              "      <td>1001952</td>\n",
              "      <td>1714267</td>\n",
              "      <td>https://images.gr-assets.com/books/1361975680m...</td>\n",
              "      <td>https://images.gr-assets.com/books/1361975680s...</td>\n",
              "    </tr>\n",
              "    <tr>\n",
              "      <th>4</th>\n",
              "      <td>5</td>\n",
              "      <td>4671</td>\n",
              "      <td>4671</td>\n",
              "      <td>245494</td>\n",
              "      <td>1356</td>\n",
              "      <td>743273567</td>\n",
              "      <td>9.780743e+12</td>\n",
              "      <td>F. Scott Fitzgerald</td>\n",
              "      <td>1925.0</td>\n",
              "      <td>The Great Gatsby</td>\n",
              "      <td>The Great Gatsby</td>\n",
              "      <td>eng</td>\n",
              "      <td>3.89</td>\n",
              "      <td>2683664</td>\n",
              "      <td>2773745</td>\n",
              "      <td>51992</td>\n",
              "      <td>86236</td>\n",
              "      <td>197621</td>\n",
              "      <td>606158</td>\n",
              "      <td>936012</td>\n",
              "      <td>947718</td>\n",
              "      <td>https://images.gr-assets.com/books/1490528560m...</td>\n",
              "      <td>https://images.gr-assets.com/books/1490528560s...</td>\n",
              "    </tr>\n",
              "  </tbody>\n",
              "</table>\n",
              "</div>"
            ],
            "text/plain": [
              "   book_id  ...                                    small_image_url\n",
              "0        1  ...  https://images.gr-assets.com/books/1447303603s...\n",
              "1        2  ...  https://images.gr-assets.com/books/1474154022s...\n",
              "2        3  ...  https://images.gr-assets.com/books/1361039443s...\n",
              "3        4  ...  https://images.gr-assets.com/books/1361975680s...\n",
              "4        5  ...  https://images.gr-assets.com/books/1490528560s...\n",
              "\n",
              "[5 rows x 23 columns]"
            ]
          },
          "metadata": {
            "tags": []
          },
          "execution_count": 7
        }
      ]
    },
    {
      "cell_type": "code",
      "metadata": {
        "colab": {
          "base_uri": "https://localhost:8080/"
        },
        "id": "xTYWOXs1jBA6",
        "outputId": "4f5a54d2-c3e4-4df4-cb25-17754287073a"
      },
      "source": [
        "print(ratings_df.shape)\n",
        "print(ratings_df.user_id.nunique())\n",
        "print(ratings_df.book_id.nunique())\n",
        "ratings_df.isna().sum()"
      ],
      "execution_count": 8,
      "outputs": [
        {
          "output_type": "stream",
          "text": [
            "(5976479, 3)\n",
            "53424\n",
            "10000\n"
          ],
          "name": "stdout"
        },
        {
          "output_type": "execute_result",
          "data": {
            "text/plain": [
              "user_id    0\n",
              "book_id    0\n",
              "rating     0\n",
              "dtype: int64"
            ]
          },
          "metadata": {
            "tags": []
          },
          "execution_count": 8
        }
      ]
    },
    {
      "cell_type": "code",
      "metadata": {
        "colab": {
          "base_uri": "https://localhost:8080/",
          "height": 284
        },
        "id": "I1eW1uWL4n6I",
        "outputId": "85ae22a7-ad39-4abc-e713-a8888c7f59f1"
      },
      "source": [
        "ratings_df.describe()"
      ],
      "execution_count": 9,
      "outputs": [
        {
          "output_type": "execute_result",
          "data": {
            "text/html": [
              "<div>\n",
              "<style scoped>\n",
              "    .dataframe tbody tr th:only-of-type {\n",
              "        vertical-align: middle;\n",
              "    }\n",
              "\n",
              "    .dataframe tbody tr th {\n",
              "        vertical-align: top;\n",
              "    }\n",
              "\n",
              "    .dataframe thead th {\n",
              "        text-align: right;\n",
              "    }\n",
              "</style>\n",
              "<table border=\"1\" class=\"dataframe\">\n",
              "  <thead>\n",
              "    <tr style=\"text-align: right;\">\n",
              "      <th></th>\n",
              "      <th>user_id</th>\n",
              "      <th>book_id</th>\n",
              "      <th>rating</th>\n",
              "    </tr>\n",
              "  </thead>\n",
              "  <tbody>\n",
              "    <tr>\n",
              "      <th>count</th>\n",
              "      <td>5.976479e+06</td>\n",
              "      <td>5.976479e+06</td>\n",
              "      <td>5.976479e+06</td>\n",
              "    </tr>\n",
              "    <tr>\n",
              "      <th>mean</th>\n",
              "      <td>2.622446e+04</td>\n",
              "      <td>2.006477e+03</td>\n",
              "      <td>3.919866e+00</td>\n",
              "    </tr>\n",
              "    <tr>\n",
              "      <th>std</th>\n",
              "      <td>1.541323e+04</td>\n",
              "      <td>2.468499e+03</td>\n",
              "      <td>9.910868e-01</td>\n",
              "    </tr>\n",
              "    <tr>\n",
              "      <th>min</th>\n",
              "      <td>1.000000e+00</td>\n",
              "      <td>1.000000e+00</td>\n",
              "      <td>1.000000e+00</td>\n",
              "    </tr>\n",
              "    <tr>\n",
              "      <th>25%</th>\n",
              "      <td>1.281300e+04</td>\n",
              "      <td>1.980000e+02</td>\n",
              "      <td>3.000000e+00</td>\n",
              "    </tr>\n",
              "    <tr>\n",
              "      <th>50%</th>\n",
              "      <td>2.593800e+04</td>\n",
              "      <td>8.850000e+02</td>\n",
              "      <td>4.000000e+00</td>\n",
              "    </tr>\n",
              "    <tr>\n",
              "      <th>75%</th>\n",
              "      <td>3.950900e+04</td>\n",
              "      <td>2.973000e+03</td>\n",
              "      <td>5.000000e+00</td>\n",
              "    </tr>\n",
              "    <tr>\n",
              "      <th>max</th>\n",
              "      <td>5.342400e+04</td>\n",
              "      <td>1.000000e+04</td>\n",
              "      <td>5.000000e+00</td>\n",
              "    </tr>\n",
              "  </tbody>\n",
              "</table>\n",
              "</div>"
            ],
            "text/plain": [
              "            user_id       book_id        rating\n",
              "count  5.976479e+06  5.976479e+06  5.976479e+06\n",
              "mean   2.622446e+04  2.006477e+03  3.919866e+00\n",
              "std    1.541323e+04  2.468499e+03  9.910868e-01\n",
              "min    1.000000e+00  1.000000e+00  1.000000e+00\n",
              "25%    1.281300e+04  1.980000e+02  3.000000e+00\n",
              "50%    2.593800e+04  8.850000e+02  4.000000e+00\n",
              "75%    3.950900e+04  2.973000e+03  5.000000e+00\n",
              "max    5.342400e+04  1.000000e+04  5.000000e+00"
            ]
          },
          "metadata": {
            "tags": []
          },
          "execution_count": 9
        }
      ]
    },
    {
      "cell_type": "code",
      "metadata": {
        "colab": {
          "base_uri": "https://localhost:8080/",
          "height": 304
        },
        "id": "ksv7dFtv42gX",
        "outputId": "81a547e5-e27b-440b-caae-2c9d256a7b7b"
      },
      "source": [
        "books_df.describe()"
      ],
      "execution_count": 10,
      "outputs": [
        {
          "output_type": "execute_result",
          "data": {
            "text/html": [
              "<div>\n",
              "<style scoped>\n",
              "    .dataframe tbody tr th:only-of-type {\n",
              "        vertical-align: middle;\n",
              "    }\n",
              "\n",
              "    .dataframe tbody tr th {\n",
              "        vertical-align: top;\n",
              "    }\n",
              "\n",
              "    .dataframe thead th {\n",
              "        text-align: right;\n",
              "    }\n",
              "</style>\n",
              "<table border=\"1\" class=\"dataframe\">\n",
              "  <thead>\n",
              "    <tr style=\"text-align: right;\">\n",
              "      <th></th>\n",
              "      <th>book_id</th>\n",
              "      <th>goodreads_book_id</th>\n",
              "      <th>best_book_id</th>\n",
              "      <th>work_id</th>\n",
              "      <th>books_count</th>\n",
              "      <th>isbn13</th>\n",
              "      <th>original_publication_year</th>\n",
              "      <th>average_rating</th>\n",
              "      <th>ratings_count</th>\n",
              "      <th>work_ratings_count</th>\n",
              "      <th>work_text_reviews_count</th>\n",
              "      <th>ratings_1</th>\n",
              "      <th>ratings_2</th>\n",
              "      <th>ratings_3</th>\n",
              "      <th>ratings_4</th>\n",
              "      <th>ratings_5</th>\n",
              "    </tr>\n",
              "  </thead>\n",
              "  <tbody>\n",
              "    <tr>\n",
              "      <th>count</th>\n",
              "      <td>10000.00000</td>\n",
              "      <td>1.000000e+04</td>\n",
              "      <td>1.000000e+04</td>\n",
              "      <td>1.000000e+04</td>\n",
              "      <td>10000.000000</td>\n",
              "      <td>9.415000e+03</td>\n",
              "      <td>9979.000000</td>\n",
              "      <td>10000.000000</td>\n",
              "      <td>1.000000e+04</td>\n",
              "      <td>1.000000e+04</td>\n",
              "      <td>10000.000000</td>\n",
              "      <td>10000.000000</td>\n",
              "      <td>10000.000000</td>\n",
              "      <td>10000.000000</td>\n",
              "      <td>1.000000e+04</td>\n",
              "      <td>1.000000e+04</td>\n",
              "    </tr>\n",
              "    <tr>\n",
              "      <th>mean</th>\n",
              "      <td>5000.50000</td>\n",
              "      <td>5.264697e+06</td>\n",
              "      <td>5.471214e+06</td>\n",
              "      <td>8.646183e+06</td>\n",
              "      <td>75.712700</td>\n",
              "      <td>9.755044e+12</td>\n",
              "      <td>1981.987674</td>\n",
              "      <td>4.002191</td>\n",
              "      <td>5.400124e+04</td>\n",
              "      <td>5.968732e+04</td>\n",
              "      <td>2919.955300</td>\n",
              "      <td>1345.040600</td>\n",
              "      <td>3110.885000</td>\n",
              "      <td>11475.893800</td>\n",
              "      <td>1.996570e+04</td>\n",
              "      <td>2.378981e+04</td>\n",
              "    </tr>\n",
              "    <tr>\n",
              "      <th>std</th>\n",
              "      <td>2886.89568</td>\n",
              "      <td>7.575462e+06</td>\n",
              "      <td>7.827330e+06</td>\n",
              "      <td>1.175106e+07</td>\n",
              "      <td>170.470728</td>\n",
              "      <td>4.428619e+11</td>\n",
              "      <td>152.576665</td>\n",
              "      <td>0.254427</td>\n",
              "      <td>1.573700e+05</td>\n",
              "      <td>1.678038e+05</td>\n",
              "      <td>6124.378132</td>\n",
              "      <td>6635.626263</td>\n",
              "      <td>9717.123578</td>\n",
              "      <td>28546.449183</td>\n",
              "      <td>5.144736e+04</td>\n",
              "      <td>7.976889e+04</td>\n",
              "    </tr>\n",
              "    <tr>\n",
              "      <th>min</th>\n",
              "      <td>1.00000</td>\n",
              "      <td>1.000000e+00</td>\n",
              "      <td>1.000000e+00</td>\n",
              "      <td>8.700000e+01</td>\n",
              "      <td>1.000000</td>\n",
              "      <td>1.951703e+08</td>\n",
              "      <td>-1750.000000</td>\n",
              "      <td>2.470000</td>\n",
              "      <td>2.716000e+03</td>\n",
              "      <td>5.510000e+03</td>\n",
              "      <td>3.000000</td>\n",
              "      <td>11.000000</td>\n",
              "      <td>30.000000</td>\n",
              "      <td>323.000000</td>\n",
              "      <td>7.500000e+02</td>\n",
              "      <td>7.540000e+02</td>\n",
              "    </tr>\n",
              "    <tr>\n",
              "      <th>25%</th>\n",
              "      <td>2500.75000</td>\n",
              "      <td>4.627575e+04</td>\n",
              "      <td>4.791175e+04</td>\n",
              "      <td>1.008841e+06</td>\n",
              "      <td>23.000000</td>\n",
              "      <td>9.780316e+12</td>\n",
              "      <td>1990.000000</td>\n",
              "      <td>3.850000</td>\n",
              "      <td>1.356875e+04</td>\n",
              "      <td>1.543875e+04</td>\n",
              "      <td>694.000000</td>\n",
              "      <td>196.000000</td>\n",
              "      <td>656.000000</td>\n",
              "      <td>3112.000000</td>\n",
              "      <td>5.405750e+03</td>\n",
              "      <td>5.334000e+03</td>\n",
              "    </tr>\n",
              "    <tr>\n",
              "      <th>50%</th>\n",
              "      <td>5000.50000</td>\n",
              "      <td>3.949655e+05</td>\n",
              "      <td>4.251235e+05</td>\n",
              "      <td>2.719524e+06</td>\n",
              "      <td>40.000000</td>\n",
              "      <td>9.780452e+12</td>\n",
              "      <td>2004.000000</td>\n",
              "      <td>4.020000</td>\n",
              "      <td>2.115550e+04</td>\n",
              "      <td>2.383250e+04</td>\n",
              "      <td>1402.000000</td>\n",
              "      <td>391.000000</td>\n",
              "      <td>1163.000000</td>\n",
              "      <td>4894.000000</td>\n",
              "      <td>8.269500e+03</td>\n",
              "      <td>8.836000e+03</td>\n",
              "    </tr>\n",
              "    <tr>\n",
              "      <th>75%</th>\n",
              "      <td>7500.25000</td>\n",
              "      <td>9.382225e+06</td>\n",
              "      <td>9.636112e+06</td>\n",
              "      <td>1.451775e+07</td>\n",
              "      <td>67.000000</td>\n",
              "      <td>9.780831e+12</td>\n",
              "      <td>2011.000000</td>\n",
              "      <td>4.180000</td>\n",
              "      <td>4.105350e+04</td>\n",
              "      <td>4.591500e+04</td>\n",
              "      <td>2744.250000</td>\n",
              "      <td>885.000000</td>\n",
              "      <td>2353.250000</td>\n",
              "      <td>9287.000000</td>\n",
              "      <td>1.602350e+04</td>\n",
              "      <td>1.730450e+04</td>\n",
              "    </tr>\n",
              "    <tr>\n",
              "      <th>max</th>\n",
              "      <td>10000.00000</td>\n",
              "      <td>3.328864e+07</td>\n",
              "      <td>3.553423e+07</td>\n",
              "      <td>5.639960e+07</td>\n",
              "      <td>3455.000000</td>\n",
              "      <td>9.790008e+12</td>\n",
              "      <td>2017.000000</td>\n",
              "      <td>4.820000</td>\n",
              "      <td>4.780653e+06</td>\n",
              "      <td>4.942365e+06</td>\n",
              "      <td>155254.000000</td>\n",
              "      <td>456191.000000</td>\n",
              "      <td>436802.000000</td>\n",
              "      <td>793319.000000</td>\n",
              "      <td>1.481305e+06</td>\n",
              "      <td>3.011543e+06</td>\n",
              "    </tr>\n",
              "  </tbody>\n",
              "</table>\n",
              "</div>"
            ],
            "text/plain": [
              "           book_id  goodreads_book_id  ...     ratings_4     ratings_5\n",
              "count  10000.00000       1.000000e+04  ...  1.000000e+04  1.000000e+04\n",
              "mean    5000.50000       5.264697e+06  ...  1.996570e+04  2.378981e+04\n",
              "std     2886.89568       7.575462e+06  ...  5.144736e+04  7.976889e+04\n",
              "min        1.00000       1.000000e+00  ...  7.500000e+02  7.540000e+02\n",
              "25%     2500.75000       4.627575e+04  ...  5.405750e+03  5.334000e+03\n",
              "50%     5000.50000       3.949655e+05  ...  8.269500e+03  8.836000e+03\n",
              "75%     7500.25000       9.382225e+06  ...  1.602350e+04  1.730450e+04\n",
              "max    10000.00000       3.328864e+07  ...  1.481305e+06  3.011543e+06\n",
              "\n",
              "[8 rows x 16 columns]"
            ]
          },
          "metadata": {
            "tags": []
          },
          "execution_count": 10
        }
      ]
    },
    {
      "cell_type": "code",
      "metadata": {
        "id": "mENG8_gk5JDx",
        "colab": {
          "base_uri": "https://localhost:8080/"
        },
        "outputId": "6c157c3a-e434-402f-9ac1-e986996577bd"
      },
      "source": [
        "print(ratings_df.shape)\n",
        "print(ratings_df.user_id.nunique())\n",
        "print(ratings_df.book_id.nunique())\n",
        "ratings_df.isna().sum()"
      ],
      "execution_count": 11,
      "outputs": [
        {
          "output_type": "stream",
          "text": [
            "(5976479, 3)\n",
            "53424\n",
            "10000\n"
          ],
          "name": "stdout"
        },
        {
          "output_type": "execute_result",
          "data": {
            "text/plain": [
              "user_id    0\n",
              "book_id    0\n",
              "rating     0\n",
              "dtype: int64"
            ]
          },
          "metadata": {
            "tags": []
          },
          "execution_count": 11
        }
      ]
    },
    {
      "cell_type": "code",
      "metadata": {
        "colab": {
          "base_uri": "https://localhost:8080/"
        },
        "id": "k5E324wljHN8",
        "outputId": "09dfab2c-2886-4466-bd85-c7c025aa642c"
      },
      "source": [
        "from sklearn.model_selection import train_test_split\n",
        "\n",
        "Xtrain, Xtest = train_test_split(ratings_df, test_size=0.2, random_state=42)\n",
        "print(f\"Shape of train data: {Xtrain.shape}\")\n",
        "print(f\"Shape of test data: {Xtest.shape}\")"
      ],
      "execution_count": 12,
      "outputs": [
        {
          "output_type": "stream",
          "text": [
            "Shape of train data: (4781183, 3)\n",
            "Shape of test data: (1195296, 3)\n"
          ],
          "name": "stdout"
        }
      ]
    },
    {
      "cell_type": "code",
      "metadata": {
        "id": "b3MiodHON9Da"
      },
      "source": [
        "#Get the number of unique entities in books and users columns\n",
        "nbook_id = ratings_df.book_id.nunique()\n",
        "nuser_id = ratings_df.user_id.nunique()"
      ],
      "execution_count": 13,
      "outputs": []
    },
    {
      "cell_type": "code",
      "metadata": {
        "id": "xKf_JvFbRLGa"
      },
      "source": [
        "from keras.layers import Input, Embedding, Flatten, Dot, Dense, Concatenate\n",
        "from keras.models import Model"
      ],
      "execution_count": 14,
      "outputs": []
    },
    {
      "cell_type": "markdown",
      "metadata": {
        "id": "lGdLlJi3p5BV"
      },
      "source": [
        "###Creating a Neural Network"
      ]
    },
    {
      "cell_type": "code",
      "metadata": {
        "id": "5HWVzg_hjeGA"
      },
      "source": [
        "#Book input network\n",
        "input_books = tf.layers.Input(shape=[1])\n",
        "embed_books = tf.layers.Embedding(nbook_id+1, 5, name=\"Book-Embedding\")(input_books)\n",
        "books_vec = tf.layers.Flatten(name=\"Flatten-Books\")(embed_books)\n",
        "\n",
        "#user input network\n",
        "input_users = tf.layers.Input(shape=[1])\n",
        "embed_users = tf.layers.Embedding(nuser_id+1, 5, name=\"User-Embedding\")(input_users)\n",
        "users_vec = tf.layers.Flatten(name=\"Flatten-Users\")(embed_users)\n",
        "\n",
        "# concatenate features\n",
        "conc_layer = tf.layers.Concatenate()([books_vec, users_vec])\n",
        "\n",
        "# add fully-connected-layers\n",
        "fc1 = Dense(128, activation='relu')(conc_layer)\n",
        "out = Dense(1)(fc1)\n",
        "\n",
        "# Create model with adam and mean squared error for loss\n",
        "model = tf.Model([input_books, input_users], out)\n",
        "model.compile('adam', 'mean_squared_error')"
      ],
      "execution_count": 15,
      "outputs": []
    },
    {
      "cell_type": "code",
      "metadata": {
        "colab": {
          "base_uri": "https://localhost:8080/"
        },
        "id": "Kua51XS_jhmx",
        "outputId": "00a9e5d8-eaf1-4677-f45e-5983ccba907f"
      },
      "source": [
        "model.summary()"
      ],
      "execution_count": 16,
      "outputs": [
        {
          "output_type": "stream",
          "text": [
            "Model: \"functional_1\"\n",
            "__________________________________________________________________________________________________\n",
            "Layer (type)                    Output Shape         Param #     Connected to                     \n",
            "==================================================================================================\n",
            "input_1 (InputLayer)            [(None, 1)]          0                                            \n",
            "__________________________________________________________________________________________________\n",
            "input_2 (InputLayer)            [(None, 1)]          0                                            \n",
            "__________________________________________________________________________________________________\n",
            "Book-Embedding (Embedding)      (None, 1, 5)         50005       input_1[0][0]                    \n",
            "__________________________________________________________________________________________________\n",
            "User-Embedding (Embedding)      (None, 1, 5)         267125      input_2[0][0]                    \n",
            "__________________________________________________________________________________________________\n",
            "Flatten-Books (Flatten)         (None, 5)            0           Book-Embedding[0][0]             \n",
            "__________________________________________________________________________________________________\n",
            "Flatten-Users (Flatten)         (None, 5)            0           User-Embedding[0][0]             \n",
            "__________________________________________________________________________________________________\n",
            "concatenate (Concatenate)       (None, 10)           0           Flatten-Books[0][0]              \n",
            "                                                                 Flatten-Users[0][0]              \n",
            "__________________________________________________________________________________________________\n",
            "dense (Dense)                   (None, 128)          1408        concatenate[0][0]                \n",
            "__________________________________________________________________________________________________\n",
            "dense_1 (Dense)                 (None, 1)            129         dense[0][0]                      \n",
            "==================================================================================================\n",
            "Total params: 318,667\n",
            "Trainable params: 318,667\n",
            "Non-trainable params: 0\n",
            "__________________________________________________________________________________________________\n"
          ],
          "name": "stdout"
        }
      ]
    },
    {
      "cell_type": "code",
      "metadata": {
        "colab": {
          "base_uri": "https://localhost:8080/",
          "height": 632
        },
        "id": "1vXwXeIbjkmN",
        "outputId": "88696cc3-5cdb-4af2-d9f5-f6ffa9b90d1f"
      },
      "source": [
        "from keras.models import load_model\n",
        "\n",
        "# if os.path.exists('regression_model.h5'):\n",
        "#     model = load_model('regression_model.h5')\n",
        "# else:\n",
        "history = model.fit([Xtrain.book_id, Xtrain.user_id], Xtrain.rating, batch_size=64, epochs=10, verbose=1)\n",
        "# model.save('regression_model.h5')\n",
        "plt.plot(history.history['loss'])\n",
        "plt.xlabel(\"Epochs\")\n",
        "plt.ylabel(\"Training Error\")\n",
        "# hist = model.fit([Xtrain.book_id, Xtrain.user_id], Xtrain.rating, batch_size=64, epochs=5, verbose=1)\n",
        "\n",
        "# callbacks = [EarlyStopping('val_loss', patience=2), \n",
        "#              ModelCheckpoint('bestweights.h5', save_best_only=True)]"
      ],
      "execution_count": 17,
      "outputs": [
        {
          "output_type": "stream",
          "text": [
            "Epoch 1/10\n",
            "74706/74706 [==============================] - 360s 5ms/step - loss: 0.7846\n",
            "Epoch 2/10\n",
            "74706/74706 [==============================] - 337s 5ms/step - loss: 0.7284\n",
            "Epoch 3/10\n",
            "74706/74706 [==============================] - 332s 4ms/step - loss: 0.7055\n",
            "Epoch 4/10\n",
            "74706/74706 [==============================] - 343s 5ms/step - loss: 0.6841\n",
            "Epoch 5/10\n",
            "74706/74706 [==============================] - 339s 5ms/step - loss: 0.6703\n",
            "Epoch 6/10\n",
            "74706/74706 [==============================] - 329s 4ms/step - loss: 0.6609\n",
            "Epoch 7/10\n",
            "74706/74706 [==============================] - 323s 4ms/step - loss: 0.6540\n",
            "Epoch 8/10\n",
            "74706/74706 [==============================] - 325s 4ms/step - loss: 0.6488\n",
            "Epoch 9/10\n",
            "74706/74706 [==============================] - 322s 4ms/step - loss: 0.6446\n",
            "Epoch 10/10\n",
            "74706/74706 [==============================] - 337s 5ms/step - loss: 0.6413\n"
          ],
          "name": "stdout"
        },
        {
          "output_type": "execute_result",
          "data": {
            "text/plain": [
              "Text(0, 0.5, 'Training Error')"
            ]
          },
          "metadata": {
            "tags": []
          },
          "execution_count": 17
        },
        {
          "output_type": "display_data",
          "data": {
            "image/png": "[encoded data removed]",
            "text/plain": [
              "<Figure size 432x288 with 1 Axes>"
            ]
          },
          "metadata": {
            "tags": [],
            "needs_background": "light"
          }
        }
      ]
    },
    {
      "cell_type": "code",
      "metadata": {
        "id": "MrBDbiZtRmWL",
        "outputId": "870f548e-315b-4c8b-9233-c2183eb25d57",
        "colab": {
          "base_uri": "https://localhost:8080/"
        }
      },
      "source": [
        "model.evaluate([Xtest.book_id, Xtest.user_id], Xtest.rating)"
      ],
      "execution_count": 18,
      "outputs": [
        {
          "output_type": "stream",
          "text": [
            "37353/37353 [==============================] - 47s 1ms/step - loss: 0.6850\n"
          ],
          "name": "stdout"
        },
        {
          "output_type": "execute_result",
          "data": {
            "text/plain": [
              "0.6849754452705383"
            ]
          },
          "metadata": {
            "tags": []
          },
          "execution_count": 18
        }
      ]
    },
    {
      "cell_type": "markdown",
      "metadata": {
        "id": "NjGltlNQKk1Q"
      },
      "source": [
        "## Tune the Model"
      ]
    },
    {
      "cell_type": "markdown",
      "metadata": {
        "id": "XZLTlrIj-EXO"
      },
      "source": [
        "### Used RMSprop to optimze the model with a learning rate of 0.01\n",
        "####MAE for loss"
      ]
    },
    {
      "cell_type": "code",
      "metadata": {
        "id": "82PZHIPrd_k1"
      },
      "source": [
        "#Book input network\n",
        "input_books = tf.layers.Input(shape=[1])\n",
        "embed_books = tf.layers.Embedding(nbook_id+1, 5, name=\"Book-Embedding\")(input_books)\n",
        "books_vec = tf.layers.Flatten(name=\"Flatten-Books\")(embed_books)\n",
        "\n",
        "#user input network\n",
        "input_users = tf.layers.Input(shape=[1])\n",
        "embed_users = tf.layers.Embedding(nuser_id+1, 5, name=\"User-Embedding\")(input_users)\n",
        "users_vec = tf.layers.Flatten(name=\"Flatten-Users\")(embed_users)\n",
        "\n",
        "# concatenate features\n",
        "conc_layer = tf.layers.Concatenate()([books_vec, users_vec])\n",
        "\n",
        "# add fully-connected-layers\n",
        "fc1 = Dense(128, activation='relu')(conc_layer)\n",
        "fc2 = Dense(32, activation='relu')(fc1)\n",
        "out = Dense(1)(fc2)\n",
        "\n",
        "# Create model \n",
        "model2 = tf.Model([input_books, input_users], out)\n",
        "# Optimizer\n",
        "opt = tf.optimizers.RMSprop(learning_rate=0.01)\n",
        "# compile model\n",
        "model2.compile(optimizer=opt, loss='mean_absolute_error')"
      ],
      "execution_count": 19,
      "outputs": []
    },
    {
      "cell_type": "markdown",
      "metadata": {
        "id": "PcrhgWj6_kT-"
      },
      "source": [
        "#####increased number of epochs to train the model more and created a batch_size of 128 in order to train faster cause it was taking long with 64"
      ]
    },
    {
      "cell_type": "code",
      "metadata": {
        "id": "Gp7a7hjCd_Lb",
        "outputId": "68a1f664-444e-4863-f3cf-ffcb27acbab2",
        "colab": {
          "base_uri": "https://localhost:8080/",
          "height": 968
        }
      },
      "source": [
        "history2 = model2.fit([Xtrain.book_id, Xtrain.user_id], Xtrain.rating, batch_size=128, epochs=20, verbose=1)\n",
        "plt.plot(history2.history['loss'])\n",
        "plt.xlabel(\"Epochs\")\n",
        "plt.ylabel(\"Training Error\")"
      ],
      "execution_count": 20,
      "outputs": [
        {
          "output_type": "stream",
          "text": [
            "Epoch 1/20\n",
            "37353/37353 [==============================] - 135s 4ms/step - loss: 0.6686\n",
            "Epoch 2/20\n",
            "37353/37353 [==============================] - 138s 4ms/step - loss: 0.6365\n",
            "Epoch 3/20\n",
            "37353/37353 [==============================] - 136s 4ms/step - loss: 0.6352\n",
            "Epoch 4/20\n",
            "37353/37353 [==============================] - 137s 4ms/step - loss: 0.6377\n",
            "Epoch 5/20\n",
            "37353/37353 [==============================] - 139s 4ms/step - loss: 0.6395\n",
            "Epoch 6/20\n",
            "37353/37353 [==============================] - 138s 4ms/step - loss: 0.6515\n",
            "Epoch 7/20\n",
            "37353/37353 [==============================] - 135s 4ms/step - loss: 0.6622\n",
            "Epoch 8/20\n",
            "37353/37353 [==============================] - 135s 4ms/step - loss: 0.6570\n",
            "Epoch 9/20\n",
            "37353/37353 [==============================] - 135s 4ms/step - loss: 0.6425\n",
            "Epoch 10/20\n",
            "37353/37353 [==============================] - 135s 4ms/step - loss: 0.6342\n",
            "Epoch 11/20\n",
            "37353/37353 [==============================] - 135s 4ms/step - loss: 0.6302\n",
            "Epoch 12/20\n",
            "37353/37353 [==============================] - 139s 4ms/step - loss: 0.6273\n",
            "Epoch 13/20\n",
            "37353/37353 [==============================] - 137s 4ms/step - loss: 0.6240\n",
            "Epoch 14/20\n",
            "37353/37353 [==============================] - 135s 4ms/step - loss: 0.6218\n",
            "Epoch 15/20\n",
            "37353/37353 [==============================] - 131s 4ms/step - loss: 0.6209\n",
            "Epoch 16/20\n",
            "37353/37353 [==============================] - 132s 4ms/step - loss: 0.6195\n",
            "Epoch 17/20\n",
            "37353/37353 [==============================] - 131s 4ms/step - loss: 0.6185\n",
            "Epoch 18/20\n",
            "37353/37353 [==============================] - 135s 4ms/step - loss: 0.6185\n",
            "Epoch 19/20\n",
            "37353/37353 [==============================] - 130s 3ms/step - loss: 0.6182\n",
            "Epoch 20/20\n",
            "37353/37353 [==============================] - 133s 4ms/step - loss: 0.6177\n"
          ],
          "name": "stdout"
        },
        {
          "output_type": "execute_result",
          "data": {
            "text/plain": [
              "Text(0, 0.5, 'Training Error')"
            ]
          },
          "metadata": {
            "tags": []
          },
          "execution_count": 20
        },
        {
          "output_type": "display_data",
          "data": {
            "image/png": "[encoded data removed]",
            "text/plain": [
              "<Figure size 432x288 with 1 Axes>"
            ]
          },
          "metadata": {
            "tags": [],
            "needs_background": "light"
          }
        }
      ]
    },
    {
      "cell_type": "markdown",
      "metadata": {
        "id": "Dk1swbNj-lSA"
      },
      "source": [
        "####Evaluating the model"
      ]
    },
    {
      "cell_type": "code",
      "metadata": {
        "id": "kb04jDwVOtcO",
        "outputId": "29b5c343-97ff-45e5-8e6a-dc38bca374e9",
        "colab": {
          "base_uri": "https://localhost:8080/"
        }
      },
      "source": [
        "model2.evaluate([Xtest.book_id, Xtest.user_id], Xtest.rating)"
      ],
      "execution_count": 21,
      "outputs": [
        {
          "output_type": "stream",
          "text": [
            "37353/37353 [==============================] - 53s 1ms/step - loss: 0.6309\n"
          ],
          "name": "stdout"
        },
        {
          "output_type": "execute_result",
          "data": {
            "text/plain": [
              "0.6309241056442261"
            ]
          },
          "metadata": {
            "tags": []
          },
          "execution_count": 21
        }
      ]
    },
    {
      "cell_type": "markdown",
      "metadata": {
        "id": "CwW30jB0-rUd"
      },
      "source": [
        "### Used Adam to optimze the model with a learning rate of 0.001\n",
        "####MAE for loss"
      ]
    },
    {
      "cell_type": "code",
      "metadata": {
        "id": "z9eUrD7kTfzO"
      },
      "source": [
        "#Book input network\n",
        "input_books = tf.layers.Input(shape=[1])\n",
        "embed_books = tf.layers.Embedding(nbook_id+1, 5, name=\"Book-Embedding\")(input_books)\n",
        "books_vec = tf.layers.Flatten(name=\"Flatten-Books\")(embed_books)\n",
        "\n",
        "#user input network\n",
        "input_users = tf.layers.Input(shape=[1])\n",
        "embed_users = tf.layers.Embedding(nuser_id+1, 5, name=\"User-Embedding\")(input_users)\n",
        "users_vec = tf.layers.Flatten(name=\"Flatten-Users\")(embed_users)\n",
        "\n",
        "# concatenate features\n",
        "conc_layer = tf.layers.Concatenate()([books_vec, users_vec])\n",
        "\n",
        "# add fully-connected-layers\n",
        "fc1 = Dense(128, activation='relu')(conc_layer)\n",
        "fc2 = Dense(32, activation='relu')(fc1)\n",
        "out = Dense(1)(fc2)\n",
        "\n",
        "# Create model \n",
        "model3 = tf.Model([input_books, input_users], out)\n",
        "# Optimizer\n",
        "opt = tf.optimizers.Adam(learning_rate=0.001)\n",
        "# compile model\n",
        "model3.compile(optimizer=opt,loss='mean_absolute_error')"
      ],
      "execution_count": 22,
      "outputs": []
    },
    {
      "cell_type": "code",
      "metadata": {
        "id": "SHT_l1-ZT90D",
        "outputId": "b18756bf-9cc3-4121-9cb4-771c8a9c6a3f",
        "colab": {
          "base_uri": "https://localhost:8080/",
          "height": 968
        }
      },
      "source": [
        "history3 = model3.fit([Xtrain.book_id, Xtrain.user_id], Xtrain.rating, batch_size=128, epochs=20, verbose=1)\n",
        "plt.plot(history3.history['loss'])\n",
        "plt.xlabel(\"Epochs\")\n",
        "plt.ylabel(\"Training Error\")"
      ],
      "execution_count": 23,
      "outputs": [
        {
          "output_type": "stream",
          "text": [
            "Epoch 1/20\n",
            "37353/37353 [==============================] - 185s 5ms/step - loss: 0.6626\n",
            "Epoch 2/20\n",
            "37353/37353 [==============================] - 185s 5ms/step - loss: 0.6249\n",
            "Epoch 3/20\n",
            "37353/37353 [==============================] - 184s 5ms/step - loss: 0.6150\n",
            "Epoch 4/20\n",
            "37353/37353 [==============================] - 183s 5ms/step - loss: 0.6081\n",
            "Epoch 5/20\n",
            "37353/37353 [==============================] - 184s 5ms/step - loss: 0.6041\n",
            "Epoch 6/20\n",
            "37353/37353 [==============================] - 184s 5ms/step - loss: 0.6041\n",
            "Epoch 7/20\n",
            "37353/37353 [==============================] - 182s 5ms/step - loss: 0.6050\n",
            "Epoch 8/20\n",
            "37353/37353 [==============================] - 182s 5ms/step - loss: 0.6041\n",
            "Epoch 9/20\n",
            "37353/37353 [==============================] - 172s 5ms/step - loss: 0.6019\n",
            "Epoch 10/20\n",
            "37353/37353 [==============================] - 172s 5ms/step - loss: 0.6007\n",
            "Epoch 11/20\n",
            "37353/37353 [==============================] - 173s 5ms/step - loss: 0.5992\n",
            "Epoch 12/20\n",
            "37353/37353 [==============================] - 173s 5ms/step - loss: 0.5981\n",
            "Epoch 13/20\n",
            "37353/37353 [==============================] - 170s 5ms/step - loss: 0.5980\n",
            "Epoch 14/20\n",
            "37353/37353 [==============================] - 170s 5ms/step - loss: 0.5971\n",
            "Epoch 15/20\n",
            "37353/37353 [==============================] - 168s 4ms/step - loss: 0.5968\n",
            "Epoch 16/20\n",
            "37353/37353 [==============================] - 168s 4ms/step - loss: 0.5965\n",
            "Epoch 17/20\n",
            "37353/37353 [==============================] - 169s 5ms/step - loss: 0.5959\n",
            "Epoch 18/20\n",
            "37353/37353 [==============================] - 169s 5ms/step - loss: 0.5958\n",
            "Epoch 19/20\n",
            "37353/37353 [==============================] - 167s 4ms/step - loss: 0.5964\n",
            "Epoch 20/20\n",
            "37353/37353 [==============================] - 167s 4ms/step - loss: 0.5976\n"
          ],
          "name": "stdout"
        },
        {
          "output_type": "execute_result",
          "data": {
            "text/plain": [
              "Text(0, 0.5, 'Training Error')"
            ]
          },
          "metadata": {
            "tags": []
          },
          "execution_count": 23
        },
        {
          "output_type": "display_data",
          "data": {
            "image/png": "[encoded data removed]",
            "text/plain": [
              "<Figure size 432x288 with 1 Axes>"
            ]
          },
          "metadata": {
            "tags": [],
            "needs_background": "light"
          }
        }
      ]
    },
    {
      "cell_type": "code",
      "metadata": {
        "id": "PycEkr9Uqshy",
        "outputId": "d7bab88d-6782-4dfa-c7b7-af8316fa34c2",
        "colab": {
          "base_uri": "https://localhost:8080/"
        }
      },
      "source": [
        "model3.evaluate([Xtest.book_id, Xtest.user_id], Xtest.rating)"
      ],
      "execution_count": 24,
      "outputs": [
        {
          "output_type": "stream",
          "text": [
            "37353/37353 [==============================] - 49s 1ms/step - loss: 0.6243\n"
          ],
          "name": "stdout"
        },
        {
          "output_type": "execute_result",
          "data": {
            "text/plain": [
              "0.6242780089378357"
            ]
          },
          "metadata": {
            "tags": []
          },
          "execution_count": 24
        }
      ]
    },
    {
      "cell_type": "markdown",
      "metadata": {
        "id": "5NeBzU0J_QNO"
      },
      "source": [
        "The results looks better than the previous models so I can either go with the previous or last model"
      ]
    },
    {
      "cell_type": "markdown",
      "metadata": {
        "id": "4k1ll6hm_znV"
      },
      "source": [
        "####Let's keep the last model"
      ]
    },
    {
      "cell_type": "code",
      "metadata": {
        "id": "uzthNhV0_2Y6"
      },
      "source": [
        "model3.save('regression_model.h5')"
      ],
      "execution_count": 25,
      "outputs": []
    },
    {
      "cell_type": "code",
      "metadata": {
        "id": "1JFauyJ_AaMd"
      },
      "source": [
        "# load all reviews\n",
        "from keras.models import load_model\n",
        "model = load_model( 'regression_model.h5' )"
      ],
      "execution_count": 26,
      "outputs": []
    },
    {
      "cell_type": "code",
      "metadata": {
        "id": "QzMwMbZRCMha"
      },
      "source": [
        "# I will predict and deploy the model to my app after."
      ],
      "execution_count": 27,
      "outputs": []
    },
    {
      "cell_type": "code",
      "metadata": {
        "id": "gQUIwnQXjoV2"
      },
      "source": [
        "# hist.history"
      ],
      "execution_count": 20,
      "outputs": []
    },
    {
      "cell_type": "code",
      "metadata": {
        "id": "F5UveFr1UrI-"
      },
      "source": [
        "# train_loss = hist.history['loss']\n",
        "# val_loss = hist.history['val_loss']\n",
        "\n",
        "# plt.plot(train_loss, color='r', label='Train Loss')\n",
        "# plt.plot(val_loss, color='b', label='Validation Loss')\n",
        "# plt.title(\"Train and Validation Loss Curve\")\n",
        "# plt.legend()\n",
        "# plt.savefig(\"loss.png\")\n",
        "# plt.show()"
      ],
      "execution_count": 21,
      "outputs": []
    },
    {
      "cell_type": "code",
      "metadata": {
        "id": "LNNQiLl4mcLJ"
      },
      "source": [
        "# test_loss, test_accuracy = model.evaluate([Xtest.book_id, Xtest.user_id], Xtest.rating)\n",
        "# print(\"VGG16 Test Accuracy: \", str(test_accuracy))"
      ],
      "execution_count": 22,
      "outputs": []
    },
    {
      "cell_type": "code",
      "metadata": {
        "id": "vGg6j05hqHgo"
      },
      "source": [
        "#Get the number of unique entities in books and users columns\n",
        "# nbook_id = ratings_df.book_id.nunique()\n",
        "# nuser_id = ratings_df.user_id.nunique()\n",
        "\n",
        "\n",
        "# #Book input network\n",
        "# input_books = tf.layers.Input(shape=[1])\n",
        "# embed_books = tf.layers.Embedding(nbook_id + 1,15)(input_books)\n",
        "# books_out = tf.layers.Flatten()(embed_books)\n",
        "\n",
        "# #user input network\n",
        "# input_users = tf.layers.Input(shape=[1])\n",
        "# embed_users = tf.layers.Embedding(nuser_id + 1,15)(input_users)\n",
        "# users_out = tf.layers.Flatten()(embed_users)\n",
        "\n",
        "\n",
        "# conc_layer = tf.layers.Concatenate()([books_out, users_out])\n",
        "# x = tf.layers.Dense(128, activation='relu')(conc_layer)\n",
        "# x_out = x = tf.layers.Dense(1, activation='sigmoid')(x)\n",
        "\n",
        "# model2 = tf.Model([input_books, input_users], x_out)\n",
        "\n",
        "# opt = tf.optimizers.SGD(learning_rate=0.01)\n",
        "# model2.compile(optimizer=opt, loss='mean_squared_error', metrics=[\"accuracy\"])"
      ],
      "execution_count": 23,
      "outputs": []
    },
    {
      "cell_type": "code",
      "metadata": {
        "id": "UVe7YsnTqHaz"
      },
      "source": [
        "# model2.summary()"
      ],
      "execution_count": 24,
      "outputs": []
    },
    {
      "cell_type": "code",
      "metadata": {
        "id": "6WuzX-nHqHYn"
      },
      "source": [
        "# hist = model2.fit([Xtrain.book_id, Xtrain.user_id], Xtrain.rating, batch_size=64, epochs=20, verbose=1)"
      ],
      "execution_count": 25,
      "outputs": []
    },
    {
      "cell_type": "code",
      "metadata": {
        "id": "XvuUVMMrVbv0"
      },
      "source": [
        "# #save the model\n",
        "# model.save('model')"
      ],
      "execution_count": 26,
      "outputs": []
    },
    {
      "cell_type": "code",
      "metadata": {
        "id": "VWChe0BtVlas"
      },
      "source": [
        "# # Extract embeddings\n",
        "# book_em = model.get_layer('embedding')\n",
        "# book_em_weights = book_em.get_weights()[0]"
      ],
      "execution_count": 27,
      "outputs": []
    },
    {
      "cell_type": "code",
      "metadata": {
        "id": "4Js_BGUbVt8L"
      },
      "source": [
        "# book_em_weights.shape"
      ],
      "execution_count": 28,
      "outputs": []
    },
    {
      "cell_type": "code",
      "metadata": {
        "id": "2P2qPLBiXNS4"
      },
      "source": [
        "# books_df_copy = books_df.copy()\n",
        "# books_df_copy = books_df_copy.set_index(\"book_id\")\n",
        "# books_df_copy.head(2)"
      ],
      "execution_count": 29,
      "outputs": []
    },
    {
      "cell_type": "code",
      "metadata": {
        "id": "2TC3E-qXXSjf"
      },
      "source": [
        "\n",
        "# b_id =list(ratings_df.book_id.unique())\n",
        "# b_id.remove(10000)"
      ],
      "execution_count": 30,
      "outputs": []
    },
    {
      "cell_type": "code",
      "metadata": {
        "id": "7fRJ6i7BXZBl"
      },
      "source": [
        "# dict_map = {}\n",
        "# for i in b_id:\n",
        "#     dict_map[i] = books_df_copy.iloc[i]['title']\n",
        "    \n",
        "# out_v = open('vecs.tsv', 'w')\n",
        "# out_m = open('meta.tsv', 'w')\n",
        "\n",
        "# for i in b_id:\n",
        "#     book = dict_map[i]\n",
        "#     embeddings = book_em_weights[i]\n",
        "#     out_m.write(book + \"\\n\")\n",
        "#     out_v.write('\\t'.join([str(x) for x in embeddings]) + \"\\n\")\n",
        "    \n",
        "# out_v.close()\n",
        "# out_m.close()"
      ],
      "execution_count": 31,
      "outputs": []
    },
    {
      "cell_type": "code",
      "metadata": {
        "id": "YAy-XTDlXdrs"
      },
      "source": [
        "# book_arr = np.array(b_id)\n",
        "# user = np.array([53424 for i in range(len(b_id))])\n",
        "# pred = model.predict([book_arr, user])"
      ],
      "execution_count": 32,
      "outputs": []
    },
    {
      "cell_type": "code",
      "metadata": {
        "id": "ckEWTVbEaiWs"
      },
      "source": [
        "# pred"
      ],
      "execution_count": 33,
      "outputs": []
    },
    {
      "cell_type": "code",
      "metadata": {
        "id": "698pQDEnbCeE"
      },
      "source": [
        "\n",
        "# pred = pred.reshape(-1)\n",
        "# pred_ids = (-pred).argsort()[0:5]\n",
        "# pred_ids"
      ],
      "execution_count": 34,
      "outputs": []
    },
    {
      "cell_type": "code",
      "metadata": {
        "id": "zjA2w1OkbGTO"
      },
      "source": [
        "# ratings_df.user_id.nunique()"
      ],
      "execution_count": 35,
      "outputs": []
    },
    {
      "cell_type": "code",
      "metadata": {
        "id": "6p72JeGubKtT"
      },
      "source": [
        "# books_df.iloc[pred_ids]"
      ],
      "execution_count": 36,
      "outputs": []
    },
    {
      "cell_type": "code",
      "metadata": {
        "id": "wQZ0mgRxb-w5"
      },
      "source": [
        "# web_book_data = books_df[[\"book_id\", \"title\", \"image_url\", \"authors\"]]\n",
        "# web_book_data = web_book_data.sort_values('book_id')"
      ],
      "execution_count": 37,
      "outputs": []
    },
    {
      "cell_type": "code",
      "metadata": {
        "id": "eFNusz0DcNWG"
      },
      "source": [
        "# web_book_data.head()"
      ],
      "execution_count": 38,
      "outputs": []
    },
    {
      "cell_type": "code",
      "metadata": {
        "id": "_Vywl39hcQlF"
      },
      "source": [
        "# web_book_data.to_json(r'web_book_data.json', orient='records')"
      ],
      "execution_count": 39,
      "outputs": []
    },
    {
      "cell_type": "code",
      "metadata": {
        "id": "Iosvie67cUCf"
      },
      "source": [
        ""
      ],
      "execution_count": 39,
      "outputs": []
    }
  ]
}